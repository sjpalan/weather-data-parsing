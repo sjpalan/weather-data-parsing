{
 "cells": [
  {
   "cell_type": "code",
   "execution_count": 17,
   "id": "0d707e4a",
   "metadata": {},
   "outputs": [
    {
     "name": "stdout",
     "output_type": "stream",
     "text": [
      "Enter city nameMumbai\n",
      "Time:  Wednesday 12:59 pm\n",
      "Temperature is  31°C\n",
      "Sky description:  Smoke\n",
      ".\n"
     ]
    }
   ],
   "source": [
    "import requests\n",
    "from bs4 import BeautifulSoup\n",
    "\n",
    "#taking input from user\n",
    "city = str(input(\"Enter city name\"))\n",
    "\n",
    "#creating url\n",
    "url = \"https://www.google.com/search?q=\"+\"weather\"+city\n",
    "\n",
    "#requests instance\n",
    "\n",
    "html = requests.get(url).content\n",
    "\n",
    "#getting the raw data\n",
    "\n",
    "soup = BeautifulSoup(html, 'html.parser')\n",
    "\n",
    "#getting the temperature\n",
    "temp = soup.find('div', attrs={'class':'BNeawe iBp4i AP7Wnd'}).text\n",
    "\n",
    "#getting the time and sky descreption\n",
    "time_sky = soup.find('div', attrs={'class':'BNeawe tAd8D AP7Wnd'}).text\n",
    "\n",
    "#formating data\n",
    "data = time_sky.split('\\n')\n",
    "\n",
    "time = data[0]\n",
    "sky = data[1]\n",
    "\n",
    "listdiv = soup.findAll('div', attrs={'class':'BNeawe s3v9rd AP7Wnd'})\n",
    "\n",
    "strd = listdiv[5].text\n",
    "\n",
    "#formatting the string\n",
    "pos = strd.find('wind')\n",
    "otherData = strd[pos:]\n",
    "\n",
    "#printing output\n",
    "print (\"Time: \", time)\n",
    "print (\"Temperature is \", temp)\n",
    "print (\"Sky description: \", sky)\n",
    "print(otherData)\n",
    "\n"
   ]
  },
  {
   "cell_type": "code",
   "execution_count": null,
   "id": "ea1eab55",
   "metadata": {},
   "outputs": [],
   "source": []
  }
 ],
 "metadata": {
  "kernelspec": {
   "display_name": "Python 3 (ipykernel)",
   "language": "python",
   "name": "python3"
  },
  "language_info": {
   "codemirror_mode": {
    "name": "ipython",
    "version": 3
   },
   "file_extension": ".py",
   "mimetype": "text/x-python",
   "name": "python",
   "nbconvert_exporter": "python",
   "pygments_lexer": "ipython3",
   "version": "3.9.13"
  }
 },
 "nbformat": 4,
 "nbformat_minor": 5
}
